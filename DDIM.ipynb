{
 "cells": [
  {
   "cell_type": "code",
   "execution_count": 11,
   "metadata": {},
   "outputs": [
    {
     "name": "stdout",
     "output_type": "stream",
     "text": [
      "True\n"
     ]
    }
   ],
   "source": [
    "import os \n",
    "import torch\n",
    "\n",
    "os.environ[\"CUDA_VISIBLE_DEVICES\"]=\"1\"\n",
    "print(torch.cuda.is_available())"
   ]
  },
  {
   "cell_type": "code",
   "execution_count": 12,
   "metadata": {},
   "outputs": [
    {
     "name": "stdout",
     "output_type": "stream",
     "text": [
      "/home/study/code_review/denoising-diffusion-pytorch\n"
     ]
    }
   ],
   "source": [
    "%cd /home/study/code_review/denoising-diffusion-pytorch"
   ]
  },
  {
   "cell_type": "code",
   "execution_count": 14,
   "metadata": {},
   "outputs": [
    {
     "name": "stderr",
     "output_type": "stream",
     "text": [
      "/home/study/miniconda3/envs/jiwon7/lib/python3.10/site-packages/tqdm/auto.py:21: TqdmWarning: IProgress not found. Please update jupyter and ipywidgets. See https://ipywidgets.readthedocs.io/en/stable/user_install.html\n",
      "  from .autonotebook import tqdm as notebook_tqdm\n"
     ]
    },
    {
     "name": "stdout",
     "output_type": "stream",
     "text": [
      "Non-A100 GPU detected, using math or mem efficient attention if input tensor is on cuda\n"
     ]
    },
    {
     "name": "stderr",
     "output_type": "stream",
     "text": [
      "sampling loop time step: 100%|██████████| 250/250 [00:28<00:00,  8.72it/s]\n",
      "sampling loop time step: 100%|██████████| 250/250 [00:28<00:00,  8.76it/s]\n",
      "sampling loop time step: 100%|██████████| 250/250 [00:28<00:00,  8.75it/s]\n",
      "sampling loop time step: 100%|██████████| 250/250 [00:28<00:00,  8.73it/s]\n",
      "sampling loop time step: 100%|██████████| 250/250 [00:28<00:00,  8.75it/s]\n",
      "sampling loop time step: 100%|██████████| 250/250 [00:28<00:00,  8.66it/s] \n",
      "sampling loop time step: 100%|██████████| 250/250 [00:28<00:00,  8.69it/s] \n",
      "sampling loop time step: 100%|██████████| 250/250 [00:28<00:00,  8.63it/s] \n",
      "sampling loop time step: 100%|██████████| 250/250 [00:28<00:00,  8.65it/s] \n",
      "sampling loop time step: 100%|██████████| 250/250 [00:28<00:00,  8.68it/s] \n",
      "sampling loop time step: 100%|██████████| 250/250 [00:28<00:00,  8.65it/s] \n",
      "sampling loop time step: 100%|██████████| 250/250 [00:28<00:00,  8.65it/s] \n",
      "sampling loop time step: 100%|██████████| 250/250 [00:28<00:00,  8.65it/s] \n",
      "sampling loop time step: 100%|██████████| 250/250 [00:28<00:00,  8.73it/s] \n",
      "sampling loop time step: 100%|██████████| 250/250 [00:28<00:00,  8.71it/s] \n",
      "sampling loop time step: 100%|██████████| 250/250 [00:28<00:00,  8.74it/s] \n",
      "sampling loop time step: 100%|██████████| 250/250 [00:28<00:00,  8.74it/s] \n",
      "sampling loop time step: 100%|██████████| 250/250 [00:28<00:00,  8.70it/s] \n",
      "sampling loop time step: 100%|██████████| 250/250 [00:28<00:00,  8.70it/s] \n",
      "sampling loop time step: 100%|██████████| 250/250 [00:28<00:00,  8.71it/s] \n",
      "sampling loop time step: 100%|██████████| 250/250 [00:28<00:00,  8.74it/s] \n",
      "sampling loop time step: 100%|██████████| 250/250 [00:28<00:00,  8.72it/s] \n",
      "sampling loop time step: 100%|██████████| 250/250 [00:28<00:00,  8.73it/s] \n",
      "sampling loop time step: 100%|██████████| 250/250 [00:28<00:00,  8.68it/s] \n",
      "sampling loop time step: 100%|██████████| 250/250 [00:28<00:00,  8.71it/s] \n",
      "sampling loop time step: 100%|██████████| 250/250 [00:28<00:00,  8.69it/s] \n",
      "sampling loop time step: 100%|██████████| 250/250 [00:28<00:00,  8.71it/s] \n",
      "sampling loop time step: 100%|██████████| 250/250 [00:28<00:00,  8.74it/s]  \n",
      "sampling loop time step: 100%|██████████| 250/250 [00:28<00:00,  8.74it/s]  \n",
      "sampling loop time step: 100%|██████████| 250/250 [00:28<00:00,  8.70it/s]  \n",
      "sampling loop time step: 100%|██████████| 250/250 [00:28<00:00,  8.72it/s]  \n",
      "sampling loop time step: 100%|██████████| 250/250 [00:28<00:00,  8.70it/s]  \n",
      "sampling loop time step: 100%|██████████| 250/250 [00:28<00:00,  8.69it/s]  \n",
      "sampling loop time step: 100%|██████████| 250/250 [00:28<00:00,  8.71it/s]  \n",
      "sampling loop time step: 100%|██████████| 250/250 [00:28<00:00,  8.79it/s]  \n",
      "sampling loop time step: 100%|██████████| 250/250 [00:28<00:00,  8.72it/s]  \n",
      "sampling loop time step: 100%|██████████| 250/250 [00:28<00:00,  8.72it/s]  \n",
      "sampling loop time step: 100%|██████████| 250/250 [00:28<00:00,  8.72it/s]  \n",
      "sampling loop time step: 100%|██████████| 250/250 [00:28<00:00,  8.72it/s]  \n",
      "sampling loop time step: 100%|██████████| 250/250 [00:28<00:00,  8.74it/s]  \n",
      "sampling loop time step: 100%|██████████| 250/250 [00:28<00:00,  8.77it/s]  \n",
      "sampling loop time step: 100%|██████████| 250/250 [00:28<00:00,  8.74it/s]  \n",
      "sampling loop time step: 100%|██████████| 250/250 [00:28<00:00,  8.72it/s]  \n",
      "sampling loop time step: 100%|██████████| 250/250 [00:28<00:00,  8.74it/s]  \n",
      "sampling loop time step: 100%|██████████| 250/250 [00:28<00:00,  8.72it/s]  \n",
      "sampling loop time step: 100%|██████████| 250/250 [00:28<00:00,  8.75it/s]  \n",
      "sampling loop time step: 100%|██████████| 250/250 [00:28<00:00,  8.73it/s]  \n",
      "sampling loop time step: 100%|██████████| 250/250 [00:28<00:00,  8.73it/s]  \n",
      "sampling loop time step: 100%|██████████| 250/250 [00:28<00:00,  8.73it/s]  \n",
      "sampling loop time step: 100%|██████████| 250/250 [00:28<00:00,  8.73it/s]  \n",
      "sampling loop time step: 100%|██████████| 250/250 [00:28<00:00,  8.71it/s]]  \n",
      "sampling loop time step: 100%|██████████| 250/250 [00:28<00:00,  8.71it/s]]  \n",
      "sampling loop time step: 100%|██████████| 250/250 [00:28<00:00,  8.73it/s]]  \n",
      "sampling loop time step: 100%|██████████| 250/250 [00:28<00:00,  8.69it/s]]  \n",
      "sampling loop time step: 100%|██████████| 250/250 [00:28<00:00,  8.69it/s]]  \n",
      "sampling loop time step: 100%|██████████| 250/250 [00:28<00:00,  8.71it/s]]  \n",
      "sampling loop time step: 100%|██████████| 250/250 [00:28<00:00,  8.68it/s]]  \n",
      "sampling loop time step: 100%|██████████| 250/250 [00:28<00:00,  8.69it/s]]  \n",
      "sampling loop time step: 100%|██████████| 250/250 [00:28<00:00,  8.69it/s]]  \n",
      "sampling loop time step: 100%|██████████| 250/250 [00:28<00:00,  8.71it/s]]  \n",
      "sampling loop time step: 100%|██████████| 250/250 [00:28<00:00,  8.70it/s]]  \n",
      "sampling loop time step: 100%|██████████| 250/250 [00:28<00:00,  8.70it/s]]  \n",
      "sampling loop time step: 100%|██████████| 250/250 [00:28<00:00,  8.72it/s]] \n",
      "sampling loop time step: 100%|██████████| 250/250 [00:28<00:00,  8.69it/s]] \n",
      "sampling loop time step: 100%|██████████| 250/250 [00:28<00:00,  8.69it/s]] \n",
      "sampling loop time step: 100%|██████████| 250/250 [00:28<00:00,  8.70it/s]] \n",
      "sampling loop time step: 100%|██████████| 250/250 [00:28<00:00,  8.71it/s]] \n",
      "sampling loop time step: 100%|██████████| 250/250 [00:28<00:00,  8.69it/s]] \n",
      "loss: 0.0287:  28%|██▊       | 137977/500000 [26:16:37<67:10:43,  1.50it/s] "
     ]
    }
   ],
   "source": [
    "from denoising_diffusion_pytorch import Unet, GaussianDiffusion, Trainer\n",
    "\n",
    "model = Unet(\n",
    "    dim = 64,\n",
    "    dim_mults = (1, 2, 4, 8),\n",
    "    flash_attn = True\n",
    ").cuda()\n",
    "\n",
    "diffusion = GaussianDiffusion(\n",
    "    model,\n",
    "    image_size = 128,\n",
    "    timesteps = 1000,           # number of steps\n",
    "    sampling_timesteps = 250    # number of sampling timesteps (using ddim for faster inference [see citation for ddim paper])\n",
    ").cuda()\n",
    "\n",
    "trainer = Trainer(\n",
    "    diffusion,\n",
    "    '/home/NAS_mount2/jwkim/celebA_dir/celebA',\n",
    "    train_batch_size = 32,\n",
    "    train_lr = 8e-5,\n",
    "    train_num_steps = 500000,         # total training steps\n",
    "    gradient_accumulate_every = 2,    # gradient accumulation steps\n",
    "    ema_decay = 0.995,                # exponential moving average decay\n",
    "    amp = True,                       # turn on mixed precision\n",
    "    calculate_fid = False              # whether to calculate fid during training\n",
    ")\n",
    "\n",
    "trainer.train()"
   ]
  },
  {
   "cell_type": "code",
   "execution_count": null,
   "metadata": {},
   "outputs": [],
   "source": []
  }
 ],
 "metadata": {
  "kernelspec": {
   "display_name": "jiwon7",
   "language": "python",
   "name": "python3"
  },
  "language_info": {
   "codemirror_mode": {
    "name": "ipython",
    "version": 3
   },
   "file_extension": ".py",
   "mimetype": "text/x-python",
   "name": "python",
   "nbconvert_exporter": "python",
   "pygments_lexer": "ipython3",
   "version": "3.10.13"
  }
 },
 "nbformat": 4,
 "nbformat_minor": 2
}
